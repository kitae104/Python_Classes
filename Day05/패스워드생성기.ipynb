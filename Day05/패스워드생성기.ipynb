{
 "cells": [
  {
   "cell_type": "code",
   "execution_count": 1,
   "metadata": {},
   "outputs": [
    {
     "name": "stdout",
     "output_type": "stream",
     "text": [
      "패스워드 생성기\n"
     ]
    }
   ],
   "source": [
    "letters = ['a', 'b', 'c', 'd', 'e', 'f', 'g', 'h', 'i', 'j', 'k', 'l', 'm', 'n', 'o', 'p', 'q', 'r', 's', 't', 'u', 'v', 'w', 'x', 'y', 'z', 'A', 'B', 'C', 'D', 'E', 'F', 'G', 'H', 'I', 'J', 'K', 'L', 'M', 'N', 'O', 'P', 'Q', 'R', 'S', 'T', 'U', 'V', 'W', 'X', 'Y', 'Z']\n",
    "numbers = ['0', '1', '2', '3', '4', '5', '6', '7', '8', '9']\n",
    "symbols = ['!', '@', '#', '$', '%', '^', '&', '*', '(', ')', '-', '_', '+', '=', '{', '}', '[', ']', '|', '\\\\', ':', ';', '\"', \"'\", '<', '>', ',', '.', '?', '/', '`', '~']\n",
    "\n",
    "print(\"패스워드 생성기\")\n",
    "l_num = 5 #int(input(\"알파벳 개수: \"))\n",
    "n_num = 3 #int(input(\"숫자 개수: \"))\n",
    "s_num = 2 #int(input(\"기호 개수: \"))"
   ]
  },
  {
   "cell_type": "code",
   "execution_count": null,
   "metadata": {},
   "outputs": [
    {
     "name": "stdout",
     "output_type": "stream",
     "text": [
      "tfagY552,=\n"
     ]
    }
   ],
   "source": [
    "# 순서가 정해진 문자열을 섞어주는 함수\n",
    "import random\n",
    "password = \"\"\n",
    "\n",
    "for char in range(l_num):\n",
    "    password += random.choice(letters)\n",
    "    # print(password) \n",
    "\n",
    "for char in range(n_num):\n",
    "    password += random.choice(numbers)  \n",
    "    # print(password)\n",
    "\n",
    "for char in range(s_num):   \n",
    "    password += random.choice(symbols)\n",
    "\n",
    "print(password)"
   ]
  },
  {
   "cell_type": "code",
   "execution_count": 5,
   "metadata": {},
   "outputs": [
    {
     "name": "stdout",
     "output_type": "stream",
     "text": [
      "['M', 'j', 'Y', 'e', 'c', '4', '2', '2', '>', ';']\n",
      "['j', 'M', '4', 'c', '>', ';', '2', 'e', 'Y', '2']\n",
      "jM4c>;2eY2\n"
     ]
    }
   ],
   "source": [
    "import random\n",
    "pw_list = []\n",
    "\n",
    "for char in range(l_num):\n",
    "    pw_list.append(random.choice(letters))\n",
    "\n",
    "for char in range(n_num):\n",
    "    pw_list += random.choice(numbers)  \n",
    "\n",
    "for char in range(s_num):   \n",
    "    pw_list += random.choice(symbols)\n",
    "\n",
    "print(pw_list)\n",
    "\n",
    "# 리스트를 섞어주는 함수\n",
    "random.shuffle(pw_list)\n",
    "print(pw_list)\n",
    "\n",
    "password = \"\"\n",
    "for char in pw_list:\n",
    "    password += char\n",
    "\n",
    "print(password)"
   ]
  }
 ],
 "metadata": {
  "kernelspec": {
   "display_name": "Python 3",
   "language": "python",
   "name": "python3"
  },
  "language_info": {
   "codemirror_mode": {
    "name": "ipython",
    "version": 3
   },
   "file_extension": ".py",
   "mimetype": "text/x-python",
   "name": "python",
   "nbconvert_exporter": "python",
   "pygments_lexer": "ipython3",
   "version": "3.12.5"
  }
 },
 "nbformat": 4,
 "nbformat_minor": 2
}
