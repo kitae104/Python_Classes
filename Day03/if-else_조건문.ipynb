{
 "cells": [
  {
   "cell_type": "code",
   "execution_count": 4,
   "metadata": {},
   "outputs": [
    {
     "name": "stdout",
     "output_type": "stream",
     "text": [
      "어서오세요! 탑승하십시오.\n"
     ]
    }
   ],
   "source": [
    "# if 구문 사용하기\n",
    "# 들여쓰기 확인!! \n",
    "height = int(input(\"당신의 키는 몇 cm 인가요? \"))\n",
    "if height > 120:\n",
    "  print(\"어서오세요! 탑승하십시오.\")\n",
    "else:\n",
    "  print(\"죄송합니다. 탑승하실 수 없습니다.\")"
   ]
  },
  {
   "cell_type": "code",
   "execution_count": 3,
   "metadata": {},
   "outputs": [
    {
     "name": "stdout",
     "output_type": "stream",
     "text": [
      "죄송합니다. 탑승하실 수 없습니다.\n"
     ]
    }
   ],
   "source": [
    "height = 130\n",
    "if height == 120:  # = 대신 == 사용\n",
    "  print(\"어서오세요! 탑승하십시오.\")\n",
    "else:\n",
    "  print(\"죄송합니다. 탑승하실 수 없습니다.\")"
   ]
  },
  {
   "cell_type": "code",
   "execution_count": 5,
   "metadata": {},
   "outputs": [
    {
     "name": "stdout",
     "output_type": "stream",
     "text": [
      "짝수입니다.\n"
     ]
    }
   ],
   "source": [
    "# 홀수 짝수 판별하기\n",
    "num = 2 # int(input(\"숫자를 입력하세요: \"))\n",
    "if num % 2 == 0:\n",
    "  print(\"짝수입니다.\")\n",
    "else:\n",
    "  print(\"홀수입니다.\")"
   ]
  },
  {
   "cell_type": "markdown",
   "metadata": {},
   "source": [
    "다중 조건 체크\n",
    "- 키는 120 이상에 나이가 18세 이상인지 여부 (1000원/2000원)"
   ]
  },
  {
   "cell_type": "code",
   "execution_count": 6,
   "metadata": {},
   "outputs": [
    {
     "name": "stdout",
     "output_type": "stream",
     "text": [
      "어서오세요! 탑승하십시오.\n",
      "성인 요금입니다. 2000원을 결제해주세요.\n"
     ]
    }
   ],
   "source": [
    "height = 170\n",
    "age = 19\n",
    "if height >= 120:  \n",
    "  print(\"어서오세요! 탑승하십시오.\")\n",
    "  if age >= 18:\n",
    "    print(\"성인 요금입니다. 2000원을 결제해주세요.\")\n",
    "  else:\n",
    "    print(\"청소년 요금입니다. 1000원을 결제해주세요.\")\n",
    "else:\n",
    "  print(\"죄송합니다. 탑승하실 수 없습니다.\")"
   ]
  },
  {
   "cell_type": "markdown",
   "metadata": {},
   "source": [
    "나이가 18 이상, 12세 이상, 12세 미만으로 나누어 가격이 다름"
   ]
  },
  {
   "cell_type": "code",
   "execution_count": 8,
   "metadata": {},
   "outputs": [
    {
     "name": "stdout",
     "output_type": "stream",
     "text": [
      "청소년 요금입니다. 1000원을 결제해주세요.\n"
     ]
    }
   ],
   "source": [
    "age = 15\n",
    "\n",
    "if age >= 18:\n",
    "  print(\"성인 요금입니다. 2000원을 결제해주세요.\")\n",
    "elif 17 >= age >= 12:\n",
    "  print(\"청소년 요금입니다. 1000원을 결제해주세요.\")\n",
    "else:\n",
    "  print(\"어린이 요금입니다. 무료입니다.\")"
   ]
  },
  {
   "cell_type": "markdown",
   "metadata": {},
   "source": [
    "다중 if "
   ]
  },
  {
   "cell_type": "code",
   "execution_count": 13,
   "metadata": {},
   "outputs": [
    {
     "name": "stdout",
     "output_type": "stream",
     "text": [
      "죄송합니다. 탑승하실 수 없습니다.\n"
     ]
    }
   ],
   "source": [
    "height = 70\n",
    "age = 5\n",
    "money = 0\n",
    "if height >= 120:  \n",
    "  print(\"어서오세요! 탑승하십시오.\")\n",
    "  if age >= 18:\n",
    "    print(\"성인 요금입니다. 2000원을 결제해주세요.\")\n",
    "    money += 2000\n",
    "  elif 17 >= age >= 12:\n",
    "    print(\"청소년 요금입니다. 1000원을 결제해주세요.\")\n",
    "    money += 1000\n",
    "  else:\n",
    "    print(\"어린이 요금입니다. 무료입니다.\")\n",
    "\n",
    "  photo = \"Y\" # input(\"사진을 찍으시겠습니까? Y/N(yes/no) \")\n",
    "  if photo == \"Y\":\n",
    "    print(\"사진을 선택하시면 2000원을 추가 결제해주세요.\")\n",
    "    money += 2000\n",
    "  else:\n",
    "    print(\"사진을 선택하지 않으셨습니다.\")\n",
    "\n",
    "  print(f\"총 요금은 {money} 원 입니다.\")\n",
    "else:\n",
    "  print(\"죄송합니다. 탑승하실 수 없습니다.\")"
   ]
  },
  {
   "cell_type": "markdown",
   "metadata": {},
   "source": [
    "피자 주문하기 \n",
    "- S(1000), M(2000), L(3000)\n",
    "- S용 페페로니(+200), M용(+400), L용(+600)\n",
    "- S용 치즈(+100), M용(+300), L용(+500)\n",
    "\n",
    "- 피자 주문입니다. \n",
    "- 어떤 사이즈를 원하시나요? (S/M/L) : L\n",
    "- 페페로니 추가를 원하시나요? (Y/N) : Y \n",
    "- 치즈 추가를 원하시나요?(Y/N) : Y\n",
    "- 총 요금은 4,100원 입니다. \n"
   ]
  },
  {
   "cell_type": "code",
   "execution_count": 16,
   "metadata": {},
   "outputs": [
    {
     "name": "stdout",
     "output_type": "stream",
     "text": [
      "총 요금은 4,100원 입니다.\n"
     ]
    }
   ],
   "source": [
    "money = 0\n",
    "size = \"L\" # input(\"사이즈를 선택하세요. S/M/L \")\n",
    "if size == \"S\":\n",
    "  money += 1000\n",
    "elif size == \"M\":\n",
    "  money += 2000\n",
    "else:\n",
    "  money += 3000\n",
    "\n",
    "pepperoni = \"Y\" # input(\"페퍼로니를 추가하시겠습니까? Y/N(yes/no) \")\n",
    "if pepperoni == \"Y\":\n",
    "  if size == \"S\":\n",
    "    money += 200\n",
    "  elif size == \"M\":\n",
    "    money += 400\n",
    "  else:\n",
    "    money += 600\n",
    "else:\n",
    "  print(\"페퍼로니를 추가하지 않으셨습니다.\")\n",
    "\n",
    "cheese = \"Y\" # input(\"치즈를 추가하시겠습니까? Y/N(yes/no) \")\n",
    "if cheese == \"Y\":\n",
    "  if size == \"S\":\n",
    "    money += 100\n",
    "  elif size == \"M\":\n",
    "    money += 300\n",
    "  else:\n",
    "    money += 500\n",
    "else:\n",
    "  print(\"치즈를 추가하지 않으셨습니다.\")\n",
    "\n",
    "print(f\"총 요금은 {money:,}원 입니다.\")"
   ]
  }
 ],
 "metadata": {
  "kernelspec": {
   "display_name": "Python 3",
   "language": "python",
   "name": "python3"
  },
  "language_info": {
   "codemirror_mode": {
    "name": "ipython",
    "version": 3
   },
   "file_extension": ".py",
   "mimetype": "text/x-python",
   "name": "python",
   "nbconvert_exporter": "python",
   "pygments_lexer": "ipython3",
   "version": "3.13.2"
  }
 },
 "nbformat": 4,
 "nbformat_minor": 2
}
