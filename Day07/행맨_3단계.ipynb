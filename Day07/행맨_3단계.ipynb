{
 "cells": [
  {
   "cell_type": "code",
   "execution_count": 1,
   "metadata": {},
   "outputs": [],
   "source": [
    "word_list = [\"aardvark\", \"baboon\", \"camel\"]"
   ]
  },
  {
   "cell_type": "markdown",
   "metadata": {},
   "source": [
    "#### 1 워드 리스트에서 임의로 가져오기\n",
    "- 단어의 수 만큼 _ 만들기"
   ]
  },
  {
   "cell_type": "code",
   "execution_count": 2,
   "metadata": {},
   "outputs": [
    {
     "name": "stdout",
     "output_type": "stream",
     "text": [
      "baboon\n"
     ]
    }
   ],
   "source": [
    "import random \n",
    "chosen_word = random.choice(word_list)\n",
    "print(chosen_word)"
   ]
  },
  {
   "cell_type": "code",
   "execution_count": 3,
   "metadata": {},
   "outputs": [
    {
     "name": "stdout",
     "output_type": "stream",
     "text": [
      "_______\n"
     ]
    }
   ],
   "source": [
    "placeholder = \"_\"\n",
    "for letter in chosen_word:\n",
    "    placeholder += \"_\"\n",
    "print(placeholder)"
   ]
  },
  {
   "cell_type": "markdown",
   "metadata": {},
   "source": [
    "#### 2 사용자에게 글자를 추측하도록 요청하고 해당 답변을 quess라는 변수에 할당합니다.\n",
    "- 해당 글자에 맞는 위치에 _ 대신 글자 보여주기"
   ]
  },
  {
   "cell_type": "code",
   "execution_count": 4,
   "metadata": {},
   "outputs": [
    {
     "name": "stdout",
     "output_type": "stream",
     "text": [
      "b\n"
     ]
    }
   ],
   "source": [
    "guess = input(\"단에를 추측하세요: \").lower()\n",
    "print(guess)"
   ]
  },
  {
   "cell_type": "markdown",
   "metadata": {},
   "source": [
    "#### 3 사용자가 질문한 글자가 선택한 단어의 글자 중 하나인지 확인합니다."
   ]
  },
  {
   "cell_type": "code",
   "execution_count": 5,
   "metadata": {},
   "outputs": [
    {
     "name": "stdout",
     "output_type": "stream",
     "text": [
      "b_b___\n"
     ]
    }
   ],
   "source": [
    "display = \"\"\n",
    "\n",
    "for letter in chosen_word:\n",
    "    if letter == guess:\n",
    "        # print(\"Right\")\n",
    "        display += letter\n",
    "    else:\n",
    "        display += \"_\"\n",
    "print(display)"
   ]
  }
 ],
 "metadata": {
  "kernelspec": {
   "display_name": "Python 3",
   "language": "python",
   "name": "python3"
  },
  "language_info": {
   "codemirror_mode": {
    "name": "ipython",
    "version": 3
   },
   "file_extension": ".py",
   "mimetype": "text/x-python",
   "name": "python",
   "nbconvert_exporter": "python",
   "pygments_lexer": "ipython3",
   "version": "3.11.3"
  }
 },
 "nbformat": 4,
 "nbformat_minor": 2
}
