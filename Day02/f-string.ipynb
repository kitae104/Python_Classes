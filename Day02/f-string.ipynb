{
 "cells": [
  {
   "cell_type": "code",
   "execution_count": 2,
   "metadata": {},
   "outputs": [
    {
     "name": "stdout",
     "output_type": "stream",
     "text": [
      "당신의 점수는 85.1234점입니다.\n",
      "당신의 점수는 85.1234 점입니다.\n",
      "당신의 점수는 85점입니다.\n"
     ]
    }
   ],
   "source": [
    "score = 1234.5678\n",
    "# print(\"당신의 점수는 \" + score + \"점입니다.\")\n",
    "print(\"당신의 점수는 \" + str(score) + \"점입니다.\")\n",
    "print(\"당신의 점수는\", score, \"점입니다.\")\n",
    "print(\"당신의 점수는 %d점입니다.\" % score)"
   ]
  },
  {
   "cell_type": "code",
   "execution_count": 4,
   "metadata": {},
   "outputs": [
    {
     "name": "stdout",
     "output_type": "stream",
     "text": [
      "당신의 점수는 1234.5678점입니다.\n",
      "당신의 점수는 1234.57점입니다.\n",
      "당신의 점수는 1,234.57점입니다.\n",
      "당신의 점수는 1,235점입니다.\n",
      "당신의 점수는 1,234.5678점입니다.\n"
     ]
    }
   ],
   "source": [
    "score = 1234.5678\n",
    "print(f\"당신의 점수는 {score}점입니다.\")\n",
    "print(f\"당신의 점수는 {score:.2f}점입니다.\")\n",
    "print(f\"당신의 점수는 {score:,.2f}점입니다.\")\n",
    "print(f\"당신의 점수는 {score:,.0f}점입니다.\")\n",
    "print(f\"당신의 점수는 {score:,}점입니다.\")"
   ]
  },
  {
   "cell_type": "markdown",
   "metadata": {},
   "source": [
    "전체 음식값이 15000이고 이에 대한 부가세가 12%이다. 5명이 나누어서 계산한다면 얼마씩 내야하는가? 소숫점 2자리 까지 계산하시오. "
   ]
  },
  {
   "cell_type": "code",
   "execution_count": 8,
   "metadata": {},
   "outputs": [
    {
     "name": "stdout",
     "output_type": "stream",
     "text": [
      "3360.0\n"
     ]
    }
   ],
   "source": [
    "pay = 15000\n",
    "tax = 0.12\n",
    "people = 5\n",
    "\n",
    "result = pay * (1 + tax) / people\n",
    "print(result)"
   ]
  },
  {
   "cell_type": "code",
   "execution_count": 9,
   "metadata": {},
   "outputs": [
    {
     "name": "stdout",
     "output_type": "stream",
     "text": [
      "음식값 계산기\n",
      "한 사람당 내야하는 금액은 3,360.00원입니다.\n"
     ]
    }
   ],
   "source": [
    "print(\"음식값 계산기\")\n",
    "pay = int(input(\"전체 음식값을 입력하세요: \"))\n",
    "tax = float(input(\"부가세를 입력하세요(%) 10, 12, 15: \"))\n",
    "tax = tax / 100\n",
    "people = int(input(\"사람 수를 입력하세요: \"))\n",
    "result = pay * (1 + tax) / people\n",
    "print(f\"한 사람당 내야하는 금액은 {result:,.2f}원입니다.\")"
   ]
  }
 ],
 "metadata": {
  "kernelspec": {
   "display_name": "Python 3",
   "language": "python",
   "name": "python3"
  },
  "language_info": {
   "codemirror_mode": {
    "name": "ipython",
    "version": 3
   },
   "file_extension": ".py",
   "mimetype": "text/x-python",
   "name": "python",
   "nbconvert_exporter": "python",
   "pygments_lexer": "ipython3",
   "version": "3.13.2"
  }
 },
 "nbformat": 4,
 "nbformat_minor": 2
}
