{
 "cells": [
  {
   "cell_type": "code",
   "execution_count": 4,
   "metadata": {},
   "outputs": [
    {
     "name": "stdout",
     "output_type": "stream",
     "text": [
      "168\n",
      "78\n",
      "5535\n",
      "2.7333333333333334\n",
      "<class 'float'>\n",
      "2\n",
      "<class 'int'>\n",
      "33\n",
      "8\n"
     ]
    }
   ],
   "source": [
    "print(123 + 45)\n",
    "print(123 - 45)\n",
    "print(123 * 45)\n",
    "print(123 / 45)\n",
    "print(type(123 / 45))\n",
    "print(123 // 45)\n",
    "print(type(123 // 45))\n",
    "print(123 % 45)\n",
    "print(2 ** 3)"
   ]
  },
  {
   "cell_type": "code",
   "execution_count": 6,
   "metadata": {},
   "outputs": [
    {
     "name": "stdout",
     "output_type": "stream",
     "text": [
      "7.0\n",
      "3.0\n"
     ]
    }
   ],
   "source": [
    "# 우선 순위 () > ** > *, /, //, % > +, -\n",
    "print(3 * 3 + 3 / 3 - 3)\n",
    "print(3 * (3 + 3) / 3 - 3)"
   ]
  },
  {
   "cell_type": "markdown",
   "metadata": {},
   "source": [
    "BMI 계산기\n",
    "\n",
    "- 체질량 지수(BMI)는 의학에서 사용되는 측정 항목으로, 누군가가 저체중인지 비만인지 확인하는 데 사용됩니다. 이를 계산하기 위해 사용되는 공식은 다음과 같습니다:\n",
    "- BMI는 해당 사람의 체중을 해당 사람의 키의 제곱으로 나눈 값입니다."
   ]
  },
  {
   "cell_type": "code",
   "execution_count": 11,
   "metadata": {},
   "outputs": [
    {
     "name": "stdout",
     "output_type": "stream",
     "text": [
      "30.85399449035813\n"
     ]
    }
   ],
   "source": [
    "height = 165 #int(input(\"키를 입력하세요, 165\"))\n",
    "weight = 84 #int(input(\"몸 무게를 입력하세요, 48\"))\n",
    "\n",
    "height = height / 100\n",
    "\n",
    "bmi = weight / (height ** 2)\n",
    "print(bmi)"
   ]
  },
  {
   "cell_type": "code",
   "execution_count": 15,
   "metadata": {},
   "outputs": [
    {
     "name": "stdout",
     "output_type": "stream",
     "text": [
      "30.85399449035813\n",
      "30\n",
      "31\n",
      "30.9\n"
     ]
    }
   ],
   "source": [
    "print(bmi)\n",
    "print(int(bmi))\n",
    "print(round(bmi))\n",
    "print(round(bmi, 1))"
   ]
  },
  {
   "cell_type": "markdown",
   "metadata": {},
   "source": [
    "축약 표시 \n",
    "- +=\n",
    "- -="
   ]
  },
  {
   "cell_type": "code",
   "execution_count": 16,
   "metadata": {},
   "outputs": [
    {
     "name": "stdout",
     "output_type": "stream",
     "text": [
      "90\n",
      "90\n"
     ]
    }
   ],
   "source": [
    "score = 85\n",
    "score = score + 5\n",
    "print(score)\n",
    "\n",
    "score2 = 85\n",
    "score2 += 5\n",
    "print(score2)"
   ]
  }
 ],
 "metadata": {
  "kernelspec": {
   "display_name": "Python 3",
   "language": "python",
   "name": "python3"
  },
  "language_info": {
   "codemirror_mode": {
    "name": "ipython",
    "version": 3
   },
   "file_extension": ".py",
   "mimetype": "text/x-python",
   "name": "python",
   "nbconvert_exporter": "python",
   "pygments_lexer": "ipython3",
   "version": "3.13.2"
  }
 },
 "nbformat": 4,
 "nbformat_minor": 2
}
