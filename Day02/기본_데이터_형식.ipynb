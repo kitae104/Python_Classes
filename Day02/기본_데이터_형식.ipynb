{
 "cells": [
  {
   "cell_type": "markdown",
   "metadata": {},
   "source": [
    "# 기본 데이터 타입\n",
    "1. 문자열(String)\n",
    "2. 정수(Integer)\n",
    "3. 실수(Float)\n",
    "4. 불린(Boolean)"
   ]
  },
  {
   "cell_type": "code",
   "execution_count": 2,
   "metadata": {},
   "outputs": [
    {
     "name": "stdout",
     "output_type": "stream",
     "text": [
      "5\n",
      "2\n",
      "H\n"
     ]
    }
   ],
   "source": [
    "# 문자열 길이 구하기\n",
    "print(len(\"Hello\"))\n",
    "print(len(\"안녕\"))\n",
    "\n",
    "# 문자열 인덱싱\n",
    "print(\"Hello\"[0]) # 0번째 문자\n",
    "print(\"Hello\"[-1]) # 뒤에서 첫번째 문자"
   ]
  },
  {
   "cell_type": "code",
   "execution_count": 3,
   "metadata": {},
   "outputs": [
    {
     "name": "stdout",
     "output_type": "stream",
     "text": [
      "579\n",
      "123456\n"
     ]
    }
   ],
   "source": [
    "# 숫자와 문자열 차이 \n",
    "print(123 + 456) # 숫자 더하기\n",
    "print(\"123\" + \"456\") # 문자열 더하기"
   ]
  },
  {
   "cell_type": "code",
   "execution_count": null,
   "metadata": {},
   "outputs": [],
   "source": [
    "print(len(1234)) # 타입 에러 - 문자열만 가능"
   ]
  },
  {
   "cell_type": "code",
   "execution_count": 4,
   "metadata": {},
   "outputs": [
    {
     "name": "stdout",
     "output_type": "stream",
     "text": [
      "123456789\n"
     ]
    }
   ],
   "source": [
    "# 큰 정수 \n",
    "print(123_456_789) # 123456789"
   ]
  },
  {
   "cell_type": "code",
   "execution_count": null,
   "metadata": {},
   "outputs": [],
   "source": [
    "# 실수 \n",
    "print(3.14)\n",
    "\n",
    "# 불리언 \n",
    "print(True)\n",
    "#print(true)"
   ]
  }
 ],
 "metadata": {
  "kernelspec": {
   "display_name": "Python 3",
   "language": "python",
   "name": "python3"
  },
  "language_info": {
   "codemirror_mode": {
    "name": "ipython",
    "version": 3
   },
   "file_extension": ".py",
   "mimetype": "text/x-python",
   "name": "python",
   "nbconvert_exporter": "python",
   "pygments_lexer": "ipython3",
   "version": "3.13.2"
  }
 },
 "nbformat": 4,
 "nbformat_minor": 2
}
