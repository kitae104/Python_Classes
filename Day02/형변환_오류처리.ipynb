{
 "cells": [
  {
   "cell_type": "code",
   "execution_count": null,
   "metadata": {},
   "outputs": [],
   "source": [
    "# 타입 오류 \n",
    "#len(1234)\n",
    "len('1234')"
   ]
  },
  {
   "cell_type": "code",
   "execution_count": 2,
   "metadata": {},
   "outputs": [
    {
     "name": "stdout",
     "output_type": "stream",
     "text": [
      "<class 'int'>\n",
      "<class 'str'>\n",
      "<class 'float'>\n",
      "<class 'bool'>\n"
     ]
    }
   ],
   "source": [
    "# 타입 확인 \n",
    "print(type(1234))\n",
    "print(type('1234'))\n",
    "print(type(1234.0))\n",
    "print(type(True))"
   ]
  },
  {
   "cell_type": "markdown",
   "metadata": {},
   "source": [
    "타입 변환\n",
    "- int()\n",
    "- float()\n",
    "- str()\n",
    "- bool()"
   ]
  },
  {
   "cell_type": "code",
   "execution_count": 3,
   "metadata": {},
   "outputs": [
    {
     "name": "stdout",
     "output_type": "stream",
     "text": [
      "123456\n",
      "579\n",
      "579\n",
      "123456\n"
     ]
    }
   ],
   "source": [
    "print(\"123\" + \"456\")\n",
    "print(123 + 456)\n",
    "print(int(\"123\") + int(\"456\"))\n",
    "print(str(123) + str(456))"
   ]
  },
  {
   "cell_type": "code",
   "execution_count": 8,
   "metadata": {},
   "outputs": [
    {
     "name": "stdout",
     "output_type": "stream",
     "text": [
      "579\n",
      "hello123\n",
      "hellohello\n",
      "------------------------------\n"
     ]
    }
   ],
   "source": [
    "# 타입 변환 \n",
    "# print(123 + \"456\") # 타입 오류\n",
    "print(123 + int(\"456\"))\n",
    "\n",
    "# print(\"hello\" + 123) # 타입 오류\n",
    "print(\"hello\" + str(123))\n",
    "\n",
    "# 특이한 경우 \n",
    "print(\"hello\" * 2)  # 문자열 반복\n",
    "print(\"-\" * 30)\n"
   ]
  },
  {
   "cell_type": "code",
   "execution_count": 9,
   "metadata": {},
   "outputs": [
    {
     "name": "stdout",
     "output_type": "stream",
     "text": [
      "<class 'str'>\n",
      "<class 'int'>\n",
      "몇 글자인가요? 7\n"
     ]
    }
   ],
   "source": [
    "# print(\"몇 글자인가요? \" + len(input(\"글자를 입력하세요:\")))\n",
    "name = input(\"이름을 입력하세요:\")\n",
    "len_name = len(name)\n",
    "print(type(name))\n",
    "print(type(len_name))\n",
    "\n",
    "print(\"몇 글자인가요? \" + str(len(input(\"글자를 입력하세요:\"))))"
   ]
  }
 ],
 "metadata": {
  "kernelspec": {
   "display_name": "Python 3",
   "language": "python",
   "name": "python3"
  },
  "language_info": {
   "codemirror_mode": {
    "name": "ipython",
    "version": 3
   },
   "file_extension": ".py",
   "mimetype": "text/x-python",
   "name": "python",
   "nbconvert_exporter": "python",
   "pygments_lexer": "ipython3",
   "version": "3.13.2"
  }
 },
 "nbformat": 4,
 "nbformat_minor": 2
}
