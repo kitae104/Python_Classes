{
 "cells": [
  {
   "cell_type": "markdown",
   "metadata": {},
   "source": [
    "🧮 문제 1: 팁 계산 문제\n",
    "- 문제 설명:\n",
    "- 전체 식사 금액이 ₩42,000이고, 여기에 **팁 10%**를 추가로 지불해야 한다. 친구 3명이 함께 나누어 계산한다면, 한 사람이 지불해야 하는 금액은 얼마인가?\n",
    "- 단, 소수점 둘째 자리까지 계산하시오.\n",
    "- 확인 이후에 외부에서 입력 받는 프로그램으로 수정하시오. \n",
    "\n",
    "결과\n",
    "- 한 사람이 내야 하는 금액: 15400.00원"
   ]
  },
  {
   "cell_type": "code",
   "execution_count": 1,
   "metadata": {},
   "outputs": [
    {
     "name": "stdout",
     "output_type": "stream",
     "text": [
      "한 사람이 내야 하는 금액: 15400.00 원\n"
     ]
    }
   ],
   "source": [
    "# 총 식사 금액\n",
    "total_price = 42000\n",
    "\n",
    "# 팁 비율\n",
    "tip_rate = 0.10\n",
    "\n",
    "# 팁 금액\n",
    "tip = total_price * tip_rate\n",
    "\n",
    "# 총 금액 (식사 + 팁)\n",
    "total_with_tip = total_price + tip\n",
    "\n",
    "# 인원 수\n",
    "people = 3\n",
    "\n",
    "# 1인당 금액\n",
    "amount_per_person = total_with_tip / people\n",
    "\n",
    "# 결과 출력 (소수점 2자리까지)\n",
    "print(\"한 사람이 내야 하는 금액:\", format(amount_per_person, \".2f\"), \"원\")"
   ]
  },
  {
   "cell_type": "markdown",
   "metadata": {},
   "source": [
    "💵 문제 2: 영화관 티켓 나누기\n",
    "- 문제 설명:\n",
    "- 단체 관람을 위해 영화관 티켓 총 8장을 예매했으며, 총 금액은 ₩88,000이다.\n",
    "- 여기에 **온라인 예매 수수료 7%**가 붙는다.\n",
    "- 4명이 나누어 계산할 때, 한 사람당 내야 할 금액은 얼마인가?\n",
    "- 소수점 둘째 자리까지 출력하시오.\n",
    "\n",
    "예상 출력:\n",
    "- 한 사람이 내야 하는 금액: 23540.00원"
   ]
  },
  {
   "cell_type": "code",
   "execution_count": 2,
   "metadata": {},
   "outputs": [
    {
     "name": "stdout",
     "output_type": "stream",
     "text": [
      "한 사람이 내야 하는 금액: 23540.00 원\n"
     ]
    }
   ],
   "source": [
    "# 티켓 총 금액\n",
    "ticket_price = 88000\n",
    "\n",
    "# 수수료 비율\n",
    "fee_rate = 0.07\n",
    "\n",
    "# 수수료 금액\n",
    "fee = ticket_price * fee_rate\n",
    "\n",
    "# 총 결제 금액 (티켓 + 수수료)\n",
    "total_with_fee = ticket_price + fee\n",
    "\n",
    "# 인원 수\n",
    "people = 4\n",
    "\n",
    "# 1인당 금액\n",
    "amount_per_person = total_with_fee / people\n",
    "\n",
    "# 결과 출력 (소수점 2자리까지)\n",
    "print(\"한 사람이 내야 하는 금액:\", format(amount_per_person, \".2f\"), \"원\")"
   ]
  }
 ],
 "metadata": {
  "kernelspec": {
   "display_name": "Python 3",
   "language": "python",
   "name": "python3"
  },
  "language_info": {
   "codemirror_mode": {
    "name": "ipython",
    "version": 3
   },
   "file_extension": ".py",
   "mimetype": "text/x-python",
   "name": "python",
   "nbconvert_exporter": "python",
   "pygments_lexer": "ipython3",
   "version": "3.11.3"
  }
 },
 "nbformat": 4,
 "nbformat_minor": 2
}
