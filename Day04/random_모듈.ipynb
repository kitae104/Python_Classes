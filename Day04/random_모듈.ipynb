{
 "cells": [
  {
   "cell_type": "code",
   "execution_count": 10,
   "metadata": {},
   "outputs": [
    {
     "name": "stdout",
     "output_type": "stream",
     "text": [
      "7\n",
      "5\n",
      "head\n"
     ]
    }
   ],
   "source": [
    "import random\n",
    "\n",
    "num1 = random.randint(1, 10)   # 1 <= N <= 10\n",
    "print(num1)\n",
    "\n",
    "num2 = random.choice([1, 2, 3, 4, 5])  # 1, 2, 3, 4, 5 중 하나\n",
    "print(num2)\n",
    "\n",
    "head_tail = random.randint(0, 1)  # 0 또는 1\n",
    "if head_tail == 0:  \n",
    "    print(\"head\")\n",
    "else:   \n",
    "    print(\"tail\")   "
   ]
  },
  {
   "cell_type": "code",
   "execution_count": 2,
   "metadata": {},
   "outputs": [
    {
     "name": "stdout",
     "output_type": "stream",
     "text": [
      "42\n"
     ]
    }
   ],
   "source": [
    "import my_module\n",
    "\n",
    "print(my_module.my_favourite_number)"
   ]
  },
  {
   "cell_type": "code",
   "execution_count": 4,
   "metadata": {},
   "outputs": [
    {
     "name": "stdout",
     "output_type": "stream",
     "text": [
      "0.028425120293491313\n",
      "0.2842512029349131\n",
      "2.8425120293491313\n"
     ]
    }
   ],
   "source": [
    "rand_num = random.random()  # 0 <= N < 1\n",
    "print(rand_num)\n",
    "\n",
    "print(rand_num * 10) # 0 <= N < 10\n",
    "print(rand_num * 100) # 0 <= N < 100    "
   ]
  },
  {
   "cell_type": "code",
   "execution_count": 5,
   "metadata": {},
   "outputs": [
    {
     "name": "stdout",
     "output_type": "stream",
     "text": [
      "1.9797342559244435\n"
     ]
    }
   ],
   "source": [
    "rand_float = random.uniform(1, 10)  # 1 <= N < 10\n",
    "print(rand_float)"
   ]
  }
 ],
 "metadata": {
  "kernelspec": {
   "display_name": "Python 3",
   "language": "python",
   "name": "python3"
  },
  "language_info": {
   "codemirror_mode": {
    "name": "ipython",
    "version": 3
   },
   "file_extension": ".py",
   "mimetype": "text/x-python",
   "name": "python",
   "nbconvert_exporter": "python",
   "pygments_lexer": "ipython3",
   "version": "3.12.5"
  }
 },
 "nbformat": 4,
 "nbformat_minor": 2
}
