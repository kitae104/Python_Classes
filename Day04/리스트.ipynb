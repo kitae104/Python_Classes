{
 "cells": [
  {
   "cell_type": "code",
   "execution_count": null,
   "metadata": {},
   "outputs": [
    {
     "name": "stdout",
     "output_type": "stream",
     "text": [
      "서울\n",
      "세종\n",
      "대구\n",
      "['서울', '부산', '인천']\n",
      "['부산', '인천']\n",
      "['서울', '부산', '인천', '대구', '대전', '광주', '울산', '세종', '제주']\n",
      "['서울', '부산', '인천', '대구', '대전', '광주', '세종', '제주']\n",
      "['서울', '수원', '부산', '인천', '대구', '대전', '광주', '세종', '제주']\n",
      "['서울', '안양', '부산', '인천', '대구', '대전', '광주', '세종', '제주']\n",
      "['서울', '인천', '대구', '대전', '광주', '세종']\n",
      "[]\n",
      "['서울', '부산']\n"
     ]
    },
    {
     "ename": "NameError",
     "evalue": "name 'city_list' is not defined",
     "output_type": "error",
     "traceback": [
      "\u001b[1;31m---------------------------------------------------------------------------\u001b[0m",
      "\u001b[1;31mNameError\u001b[0m                                 Traceback (most recent call last)",
      "Cell \u001b[1;32mIn[2], line 46\u001b[0m\n\u001b[0;32m     43\u001b[0m \u001b[38;5;66;03m# 리스트에 요소 삭제\u001b[39;00m\n\u001b[0;32m     44\u001b[0m \u001b[38;5;28;01mdel\u001b[39;00m city_list\n\u001b[1;32m---> 46\u001b[0m \u001b[38;5;28mprint\u001b[39m(\u001b[43mcity_list\u001b[49m) \u001b[38;5;66;03m# NameError: name 'city_list' is not defined\u001b[39;00m\n",
      "\u001b[1;31mNameError\u001b[0m: name 'city_list' is not defined"
     ]
    }
   ],
   "source": [
    "city_list = ['서울', '부산', '인천', '대구', '대전', '광주', '울산', '세종']    \n",
    "\n",
    "# 인덱스 : 0부터 시작\n",
    "print(city_list[0])  # 서울\n",
    "print(city_list[-1]) # 세종\n",
    "print(city_list[3])  # 대구\n",
    "print(city_list[:3]) # ['서울', '부산', '인천'] 0부터 3전까지   \n",
    "print(city_list[1:3]) # ['부산', '인천'] 1부터 3전까지  \n",
    "\n",
    "# 리스트에 요소 추가\n",
    "city_list.append('제주')\n",
    "print(city_list) # ['서울', '부산', '인천', '대구', '대전', '광주', '울산', '세종', '제주']\n",
    "\n",
    "# 리스트에 요소 삭제\n",
    "city_list.remove('울산')\n",
    "print(city_list) # ['서울', '부산', '인천', '대구', '대전', '광주', '세종', '제주']\n",
    "\n",
    "# 리스트에 요소 삽입\n",
    "city_list.insert(1, '수원')\n",
    "print(city_list) # ['서울', '수원', '부산', '인천', '대구', '대전', '광주', '세종', '제주']\n",
    "\n",
    "# 리스트에 요소 수정\n",
    "city_list[1] = '안양'\n",
    "print(city_list) # ['서울', '안양', '부산', '인천', '대구', '대전', '광주', '세종', '제주']\n",
    "\n",
    "# 리스트에 요소 삭제\n",
    "city_list.pop(1)\n",
    "\n",
    "# 리스트에 요소 삭제\n",
    "del city_list[1]\n",
    "\n",
    "# 리스트에 요소 삭제\n",
    "city_list.remove('제주')\n",
    "print(city_list) # ['서울', '인천', '대구', '대전', '광주', '세종', '제주']\n",
    "\n",
    "# 리스트에 요소 삭제\n",
    "city_list.clear()\n",
    "print(city_list) # []\n",
    "\n",
    "city_list.extend(['서울', '부산'])\n",
    "print(city_list) # ['서울', '부산']\n",
    "\n",
    "# 리스트에 요소 삭제\n",
    "del city_list\n",
    "\n",
    "# print(city_list) # NameError: name 'city_list' is not defined\n"
   ]
  },
  {
   "cell_type": "code",
   "execution_count": 3,
   "metadata": {},
   "outputs": [
    {
     "name": "stdout",
     "output_type": "stream",
     "text": [
      "['강감찬', '김유신', '이순신', '홍길동']\n",
      "['이순신', '김유신', '홍길동', '강감찬']\n",
      "['강감찬', '김유신', '이순신', '홍길동']\n",
      "['홍길동', '이순신', '김유신', '강감찬']\n",
      "4\n",
      "홍길동\n",
      "['이순신', '홍길동']\n",
      "1\n",
      "1\n",
      "2\n"
     ]
    }
   ],
   "source": [
    "import random\n",
    "members = ['강감찬', '김유신', '이순신', '홍길동']\n",
    "print(members) # ['강감찬', '김유신', '이순신', '홍길동']\n",
    "\n",
    "# 리스트 요소 섞기\n",
    "random.shuffle(members)\n",
    "print(members) # ['홍길동', '강감찬', '이순신', '김유신']\n",
    "\n",
    "# 리스트 요소 정렬\n",
    "members.sort()\n",
    "print(members) # ['강감찬', '김유신', '이순신', '홍길동']\n",
    "\n",
    "# 리스트 요소 역순 정렬\n",
    "members.reverse()\n",
    "print(members) # ['홍길동', '이순신', '김유신', '강감찬']\n",
    "\n",
    "# 리스트 요소 개수\n",
    "print(len(members)) \n",
    "\n",
    "# 랜덤으로 하나 선택\n",
    "print(random.choice(members)) \n",
    "\n",
    "# 랜덤으로 두개 선택\n",
    "print(random.sample(members, 2))\n",
    "\n",
    "# 리스트 요소 인덱스\n",
    "print(members.index('이순신')) # 1\n",
    "\n",
    "# 리스트 요소 개수\n",
    "print(members.count('이순신')) # 1\n",
    "\n",
    "# 리스트 요소 추가\n",
    "members.append('이순신')\n",
    "\n",
    "# 리스트 요소 개수\n",
    "print(members.count('이순신')) # 2"
   ]
  },
  {
   "cell_type": "code",
   "execution_count": null,
   "metadata": {},
   "outputs": [
    {
     "ename": "IndexError",
     "evalue": "list index out of range",
     "output_type": "error",
     "traceback": [
      "\u001b[1;31m---------------------------------------------------------------------------\u001b[0m",
      "\u001b[1;31mIndexError\u001b[0m                                Traceback (most recent call last)",
      "Cell \u001b[1;32mIn[4], line 3\u001b[0m\n\u001b[0;32m      1\u001b[0m members \u001b[38;5;241m=\u001b[39m [\u001b[38;5;124m'\u001b[39m\u001b[38;5;124m강감찬\u001b[39m\u001b[38;5;124m'\u001b[39m, \u001b[38;5;124m'\u001b[39m\u001b[38;5;124m김유신\u001b[39m\u001b[38;5;124m'\u001b[39m, \u001b[38;5;124m'\u001b[39m\u001b[38;5;124m이순신\u001b[39m\u001b[38;5;124m'\u001b[39m, \u001b[38;5;124m'\u001b[39m\u001b[38;5;124m홍길동\u001b[39m\u001b[38;5;124m'\u001b[39m]\n\u001b[1;32m----> 3\u001b[0m \u001b[38;5;28mprint\u001b[39m(\u001b[43mmembers\u001b[49m\u001b[43m[\u001b[49m\u001b[38;5;241;43m10\u001b[39;49m\u001b[43m]\u001b[49m) \u001b[38;5;66;03m# IndexError: list index out of range\u001b[39;00m\n",
      "\u001b[1;31mIndexError\u001b[0m: list index out of range"
     ]
    }
   ],
   "source": [
    "members = ['강감찬', '김유신', '이순신', '홍길동']\n",
    "\n",
    "# print(members[10]) # IndexError: list index out of range\n",
    "print(members[len(members) - 1]) # 홍길동"
   ]
  },
  {
   "cell_type": "code",
   "execution_count": 5,
   "metadata": {},
   "outputs": [
    {
     "name": "stdout",
     "output_type": "stream",
     "text": [
      "['Strawberries', 'Nectarines', 'Apples', 'Grapes', 'Peaches', 'Cherries', 'Melons', 'Lemons']\n"
     ]
    }
   ],
   "source": [
    "fruits = [\"Strawberries\", \"Nectarines\", \"Apples\", \"Grapes\", \"Peaches\", \"Cherries\", \"Pears\"]\n",
    "fruits[-1] = \"Melons\"\n",
    "fruits.append(\"Lemons\")\n",
    "print(fruits)"
   ]
  },
  {
   "cell_type": "code",
   "execution_count": 6,
   "metadata": {},
   "outputs": [
    {
     "name": "stdout",
     "output_type": "stream",
     "text": [
      "Kale\n"
     ]
    }
   ],
   "source": [
    "fruits = [\"Strawberries\", \"Nectarines\", \"Apples\", \"Grapes\", \"Peaches\", \"Cherries\", \"Pears\"]\n",
    "vegetables = [\"Spinach\", \"Kale\", \"Tomatoes\", \"Celery\", \"Potatoes\"]\n",
    "\n",
    "dirty_dozen = [fruits, vegetables]\n",
    "\n",
    "print(dirty_dozen[1][1])"
   ]
  },
  {
   "cell_type": "markdown",
   "metadata": {},
   "source": [
    "가위, 바위, 보 게임 - 만들기"
   ]
  },
  {
   "cell_type": "code",
   "execution_count": null,
   "metadata": {},
   "outputs": [
    {
     "name": "stdout",
     "output_type": "stream",
     "text": [
      "컴퓨터의 선택은 2 입니다.\n",
      "컴퓨터가 이겼습니다!\n"
     ]
    }
   ],
   "source": [
    "user = 1 #int(input(\"당신의 선택은 무엇인가요? 1. 가위 2. 바위 3. 보\"))\n",
    "computer = random.randint(1, 3)\n",
    "print(f\"컴퓨터의 선택은 {computer} 입니다.\")\n",
    "\n",
    "# 각 상태를 비교하여 승패를 결정\n",
    "if user == computer:\n",
    "    print('비겼습니다!')\n",
    "elif (user == 1 and computer == 3) or (user == 2 and computer == 1) or (user == 3 and computer == 2):\n",
    "    print('사용자가 이겼습니다!')\n",
    "else:\n",
    "    print('컴퓨터가 이겼습니다!')"
   ]
  }
 ],
 "metadata": {
  "kernelspec": {
   "display_name": "Python 3",
   "language": "python",
   "name": "python3"
  },
  "language_info": {
   "codemirror_mode": {
    "name": "ipython",
    "version": 3
   },
   "file_extension": ".py",
   "mimetype": "text/x-python",
   "name": "python",
   "nbconvert_exporter": "python",
   "pygments_lexer": "ipython3",
   "version": "3.12.5"
  }
 },
 "nbformat": 4,
 "nbformat_minor": 2
}
